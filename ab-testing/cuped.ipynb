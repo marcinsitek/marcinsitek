{
 "cells": [
  {
   "cell_type": "code",
   "execution_count": 1,
   "metadata": {},
   "outputs": [],
   "source": [
    "import numpy as np\n",
    "import pandas as pd\n",
    "import math\n",
    "\n",
    "from data_generator import DataGenerator"
   ]
  },
  {
   "cell_type": "code",
   "execution_count": 2,
   "metadata": {},
   "outputs": [],
   "source": [
    "# Data generating process\n",
    "dg = DataGenerator(mu=1.3, p_after_a=0.1, p_after_b=0.1)\n",
    "data = dg.generate()"
   ]
  },
  {
   "cell_type": "code",
   "execution_count": 3,
   "metadata": {},
   "outputs": [
    {
     "data": {
      "text/html": [
       "<div>\n",
       "<style scoped>\n",
       "    .dataframe tbody tr th:only-of-type {\n",
       "        vertical-align: middle;\n",
       "    }\n",
       "\n",
       "    .dataframe tbody tr th {\n",
       "        vertical-align: top;\n",
       "    }\n",
       "\n",
       "    .dataframe thead th {\n",
       "        text-align: right;\n",
       "    }\n",
       "</style>\n",
       "<table border=\"1\" class=\"dataframe\">\n",
       "  <thead>\n",
       "    <tr style=\"text-align: right;\">\n",
       "      <th></th>\n",
       "      <th>player_id</th>\n",
       "      <th>variant</th>\n",
       "      <th>p_sum_before</th>\n",
       "      <th>p_sum_after</th>\n",
       "    </tr>\n",
       "  </thead>\n",
       "  <tbody>\n",
       "    <tr>\n",
       "      <th>0</th>\n",
       "      <td>1</td>\n",
       "      <td>B</td>\n",
       "      <td>0.0</td>\n",
       "      <td>119.36646</td>\n",
       "    </tr>\n",
       "    <tr>\n",
       "      <th>1</th>\n",
       "      <td>2</td>\n",
       "      <td>A</td>\n",
       "      <td>0.0</td>\n",
       "      <td>0.00000</td>\n",
       "    </tr>\n",
       "    <tr>\n",
       "      <th>2</th>\n",
       "      <td>3</td>\n",
       "      <td>B</td>\n",
       "      <td>0.0</td>\n",
       "      <td>0.00000</td>\n",
       "    </tr>\n",
       "    <tr>\n",
       "      <th>3</th>\n",
       "      <td>4</td>\n",
       "      <td>A</td>\n",
       "      <td>0.0</td>\n",
       "      <td>0.00000</td>\n",
       "    </tr>\n",
       "    <tr>\n",
       "      <th>4</th>\n",
       "      <td>5</td>\n",
       "      <td>A</td>\n",
       "      <td>0.0</td>\n",
       "      <td>0.00000</td>\n",
       "    </tr>\n",
       "    <tr>\n",
       "      <th>...</th>\n",
       "      <td>...</td>\n",
       "      <td>...</td>\n",
       "      <td>...</td>\n",
       "      <td>...</td>\n",
       "    </tr>\n",
       "    <tr>\n",
       "      <th>9995</th>\n",
       "      <td>9996</td>\n",
       "      <td>B</td>\n",
       "      <td>0.0</td>\n",
       "      <td>0.00000</td>\n",
       "    </tr>\n",
       "    <tr>\n",
       "      <th>9996</th>\n",
       "      <td>9997</td>\n",
       "      <td>B</td>\n",
       "      <td>0.0</td>\n",
       "      <td>0.00000</td>\n",
       "    </tr>\n",
       "    <tr>\n",
       "      <th>9997</th>\n",
       "      <td>9998</td>\n",
       "      <td>B</td>\n",
       "      <td>0.0</td>\n",
       "      <td>0.00000</td>\n",
       "    </tr>\n",
       "    <tr>\n",
       "      <th>9998</th>\n",
       "      <td>9999</td>\n",
       "      <td>B</td>\n",
       "      <td>0.0</td>\n",
       "      <td>0.00000</td>\n",
       "    </tr>\n",
       "    <tr>\n",
       "      <th>9999</th>\n",
       "      <td>10000</td>\n",
       "      <td>B</td>\n",
       "      <td>0.0</td>\n",
       "      <td>0.00000</td>\n",
       "    </tr>\n",
       "  </tbody>\n",
       "</table>\n",
       "<p>10000 rows × 4 columns</p>\n",
       "</div>"
      ],
      "text/plain": [
       "      player_id variant  p_sum_before  p_sum_after\n",
       "0             1       B           0.0    119.36646\n",
       "1             2       A           0.0      0.00000\n",
       "2             3       B           0.0      0.00000\n",
       "3             4       A           0.0      0.00000\n",
       "4             5       A           0.0      0.00000\n",
       "...         ...     ...           ...          ...\n",
       "9995       9996       B           0.0      0.00000\n",
       "9996       9997       B           0.0      0.00000\n",
       "9997       9998       B           0.0      0.00000\n",
       "9998       9999       B           0.0      0.00000\n",
       "9999      10000       B           0.0      0.00000\n",
       "\n",
       "[10000 rows x 4 columns]"
      ]
     },
     "execution_count": 3,
     "metadata": {},
     "output_type": "execute_result"
    }
   ],
   "source": [
    "data"
   ]
  },
  {
   "cell_type": "code",
   "execution_count": 4,
   "metadata": {},
   "outputs": [
    {
     "data": {
      "text/plain": [
       "p_sum_after          11.348024\n",
       "CUPED_p_sum_after    11.348024\n",
       "dtype: float64"
      ]
     },
     "execution_count": 4,
     "metadata": {},
     "output_type": "execute_result"
    }
   ],
   "source": [
    "# Method: CUPED\n",
    "X = \"p_sum_before\"\n",
    "Y = \"p_sum_after\"\n",
    "COV_X_Y = data[[X, Y]].cov().loc[X, Y]\n",
    "VAR_X = data[X].var()\n",
    "MEAN_X = data[X].mean()\n",
    "data[f\"CUPED_{Y}\"] = data[Y] - ((data[X] - MEAN_X) * (COV_X_Y / VAR_X))\n",
    "data[[Y, f\"CUPED_{Y}\"]].mean()"
   ]
  },
  {
   "cell_type": "code",
   "execution_count": 6,
   "metadata": {},
   "outputs": [
    {
     "name": "stdout",
     "output_type": "stream",
     "text": [
      "pvalue: 0.014998500149985002\n"
     ]
    }
   ],
   "source": [
    "# Studentized nonparametric bootstrap test for data transformed using CUPED\n",
    "# H0: mu_1 = mu_2\n",
    "# H1: mu_1 < mu_2\n",
    "\n",
    "R = 10000\n",
    "x_1 = data.loc[data['variant']=='A', f\"CUPED_{Y}\"].values\n",
    "x_2 = data.loc[data['variant']=='B', f\"CUPED_{Y}\"].values\n",
    "n_1 = len(x_1)\n",
    "n_2 = len(x_2)\n",
    "y_1 = np.mean(x_1)\n",
    "y_2 = np.mean(x_2)\n",
    "s_1 = math.sqrt(sum((x_1 - y_1)**2) / (n_1 - 1))\n",
    "s_2 = math.sqrt(sum((x_2 - y_2)**2) / (n_2 - 1))\n",
    "z_0 = (np.mean(x_2)-np.mean(x_1)) / math.sqrt(s_1**2/n_1 + s_2**2/n_2)\n",
    "\n",
    "success_count = 0\n",
    "for _ in range(R):\n",
    "    x_asterisk_1 = np.random.choice(x_1, size=n_1, replace=True)\n",
    "    x_asterisk_2 = np.random.choice(x_2, size=n_2, replace=True)\n",
    "    y_asterisk_1 = np.mean(x_asterisk_1)\n",
    "    y_asterisk_2 = np.mean(x_asterisk_2)\n",
    "    s_asterisk_1 = math.sqrt(sum((x_asterisk_1 - y_asterisk_1)**2) / (n_1 - 1))\n",
    "    s_asterisk_2 = math.sqrt(sum((x_asterisk_2 - y_asterisk_2)**2) / (n_2 - 1))\n",
    "    z_asterisk = (\n",
    "        (y_asterisk_2 - y_asterisk_1 - (y_2 - y_1)) / \n",
    "        (s_asterisk_2**2/n_2 + s_asterisk_1**2/n_1)**(1/2)\n",
    "    )\n",
    "    if z_asterisk > z_0:\n",
    "        success_count += 1\n",
    "pvalue = (success_count + 1) / (R + 1)\n",
    "print(f\"pvalue: {pvalue}\")"
   ]
  }
 ],
 "metadata": {
  "kernelspec": {
   "display_name": "Python 3.9.12 ('base')",
   "language": "python",
   "name": "python3"
  },
  "language_info": {
   "codemirror_mode": {
    "name": "ipython",
    "version": 3
   },
   "file_extension": ".py",
   "mimetype": "text/x-python",
   "name": "python",
   "nbconvert_exporter": "python",
   "pygments_lexer": "ipython3",
   "version": "3.9.12"
  },
  "orig_nbformat": 4,
  "vscode": {
   "interpreter": {
    "hash": "410d8909286ee099184dd1ef7433bfa65b08aa8fd23cb773142d61ddfd810c49"
   }
  }
 },
 "nbformat": 4,
 "nbformat_minor": 2
}
