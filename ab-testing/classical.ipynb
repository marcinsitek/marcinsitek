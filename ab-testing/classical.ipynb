{
 "cells": [
  {
   "cell_type": "code",
   "execution_count": 1,
   "metadata": {},
   "outputs": [],
   "source": [
    "%load_ext autoreload\n",
    "%autoreload 2\n",
    "\n",
    "import numpy as np\n",
    "import pandas as pd\n",
    "import math\n",
    "from scipy.stats import norm, t, bernoulli, chi\n",
    "\n",
    "from data_generator import DataGenerator"
   ]
  },
  {
   "cell_type": "code",
   "execution_count": 2,
   "metadata": {},
   "outputs": [],
   "source": [
    "# Data generating process\n",
    "dg = DataGenerator(mu=1.3, p_after_a=0.1, p_after_b=0.1)\n",
    "data = dg.generate()"
   ]
  },
  {
   "cell_type": "code",
   "execution_count": 3,
   "metadata": {},
   "outputs": [
    {
     "data": {
      "text/html": [
       "<div>\n",
       "<style scoped>\n",
       "    .dataframe tbody tr th:only-of-type {\n",
       "        vertical-align: middle;\n",
       "    }\n",
       "\n",
       "    .dataframe tbody tr th {\n",
       "        vertical-align: top;\n",
       "    }\n",
       "\n",
       "    .dataframe thead th {\n",
       "        text-align: right;\n",
       "    }\n",
       "</style>\n",
       "<table border=\"1\" class=\"dataframe\">\n",
       "  <thead>\n",
       "    <tr style=\"text-align: right;\">\n",
       "      <th></th>\n",
       "      <th>player_id</th>\n",
       "      <th>variant</th>\n",
       "      <th>p_sum_before</th>\n",
       "      <th>p_sum_after</th>\n",
       "    </tr>\n",
       "  </thead>\n",
       "  <tbody>\n",
       "    <tr>\n",
       "      <th>0</th>\n",
       "      <td>1</td>\n",
       "      <td>A</td>\n",
       "      <td>0.0</td>\n",
       "      <td>0.000000</td>\n",
       "    </tr>\n",
       "    <tr>\n",
       "      <th>1</th>\n",
       "      <td>2</td>\n",
       "      <td>B</td>\n",
       "      <td>0.0</td>\n",
       "      <td>0.000000</td>\n",
       "    </tr>\n",
       "    <tr>\n",
       "      <th>2</th>\n",
       "      <td>3</td>\n",
       "      <td>A</td>\n",
       "      <td>0.0</td>\n",
       "      <td>0.000000</td>\n",
       "    </tr>\n",
       "    <tr>\n",
       "      <th>3</th>\n",
       "      <td>4</td>\n",
       "      <td>B</td>\n",
       "      <td>0.0</td>\n",
       "      <td>17.210295</td>\n",
       "    </tr>\n",
       "    <tr>\n",
       "      <th>4</th>\n",
       "      <td>5</td>\n",
       "      <td>B</td>\n",
       "      <td>0.0</td>\n",
       "      <td>411.061069</td>\n",
       "    </tr>\n",
       "    <tr>\n",
       "      <th>...</th>\n",
       "      <td>...</td>\n",
       "      <td>...</td>\n",
       "      <td>...</td>\n",
       "      <td>...</td>\n",
       "    </tr>\n",
       "    <tr>\n",
       "      <th>9995</th>\n",
       "      <td>9996</td>\n",
       "      <td>B</td>\n",
       "      <td>0.0</td>\n",
       "      <td>0.000000</td>\n",
       "    </tr>\n",
       "    <tr>\n",
       "      <th>9996</th>\n",
       "      <td>9997</td>\n",
       "      <td>A</td>\n",
       "      <td>0.0</td>\n",
       "      <td>0.000000</td>\n",
       "    </tr>\n",
       "    <tr>\n",
       "      <th>9997</th>\n",
       "      <td>9998</td>\n",
       "      <td>B</td>\n",
       "      <td>0.0</td>\n",
       "      <td>0.000000</td>\n",
       "    </tr>\n",
       "    <tr>\n",
       "      <th>9998</th>\n",
       "      <td>9999</td>\n",
       "      <td>B</td>\n",
       "      <td>0.0</td>\n",
       "      <td>0.000000</td>\n",
       "    </tr>\n",
       "    <tr>\n",
       "      <th>9999</th>\n",
       "      <td>10000</td>\n",
       "      <td>B</td>\n",
       "      <td>0.0</td>\n",
       "      <td>0.000000</td>\n",
       "    </tr>\n",
       "  </tbody>\n",
       "</table>\n",
       "<p>10000 rows × 4 columns</p>\n",
       "</div>"
      ],
      "text/plain": [
       "      player_id variant  p_sum_before  p_sum_after\n",
       "0             1       A           0.0     0.000000\n",
       "1             2       B           0.0     0.000000\n",
       "2             3       A           0.0     0.000000\n",
       "3             4       B           0.0    17.210295\n",
       "4             5       B           0.0   411.061069\n",
       "...         ...     ...           ...          ...\n",
       "9995       9996       B           0.0     0.000000\n",
       "9996       9997       A           0.0     0.000000\n",
       "9997       9998       B           0.0     0.000000\n",
       "9998       9999       B           0.0     0.000000\n",
       "9999      10000       B           0.0     0.000000\n",
       "\n",
       "[10000 rows x 4 columns]"
      ]
     },
     "execution_count": 3,
     "metadata": {},
     "output_type": "execute_result"
    }
   ],
   "source": [
    "data"
   ]
  },
  {
   "cell_type": "markdown",
   "metadata": {},
   "source": [
    "Method: Two-sample test for means\n",
    "\n",
    "Assumptions:\n",
    "* Samples drawn from unknown distributions\n",
    "* Asymptotically valid\n",
    "* Significance level: $\\alpha=0.05$\n",
    "* Test if the mean payment for variant B ($\\mu_{B}$) is grater than for the variant A ($\\mu_{A}$)\n",
    "\n",
    "Hypothesis:\n",
    "* $H_{0}:$ $\\mu_{A} = \\mu_{B}$\n",
    "* $H_{1}:$ $\\mu_{A} < \\mu_{B}$\n",
    "\n",
    "Decision rule: reject $H_{0}$ if u_statistic is in the critial region i.e. *u_statistic < u_alpha*"
   ]
  },
  {
   "cell_type": "code",
   "execution_count": 4,
   "metadata": {},
   "outputs": [
    {
     "name": "stdout",
     "output_type": "stream",
     "text": [
      "u_statistic: -2.386863880684838\n",
      "u_alpha: -1.6448536269514729\n"
     ]
    }
   ],
   "source": [
    "# Two-sample test for means\n",
    "# H0: m_1 = m_2\n",
    "# H1: m_1 < m_2\n",
    "\n",
    "alpha = 0.05\n",
    "x_1 = data.loc[(data['variant']=='A')&(data['p_sum_after']>0), 'p_sum_after'].values\n",
    "x_2 = data.loc[(data['variant']=='B')&(data['p_sum_after']>0), 'p_sum_after'].values\n",
    "n_1 = len(x_1)\n",
    "n_2 = len(x_2)\n",
    "sigma_1 = np.std(x_1)\n",
    "sigma_2 = np.std(x_2)\n",
    "x_hat_1 = np.mean(x_1)\n",
    "x_hat_2 = np.mean(x_2)\n",
    "s_1 = (sum((x_1 - x_hat_1)**2) / n_1-1)**(1/2)\n",
    "s_2 = (sum((x_2 - x_hat_2)**2) / n_2-1)**(1/2)\n",
    "\n",
    "u_statistic = (x_hat_1 - x_hat_2) / (s_1**2/n_1 + s_2**2/n_2)**(1/2)\n",
    "u_alpha = norm.ppf(alpha)\n",
    "\n",
    "print(f\"u_statistic: {u_statistic}\")\n",
    "print(f\"u_alpha: {u_alpha}\")"
   ]
  },
  {
   "cell_type": "markdown",
   "metadata": {},
   "source": [
    "Method: Two-sample test for proportions\n",
    "\n",
    "Assumptions:\n",
    "* Samples drawn from two populations with Bernoulli distributions\n",
    "* Significance level: $\\alpha=0.05$\n",
    "* Test if the proportion of payers for variant B ($p_{B}$) is grater than for the variant A ($p_{A}$)\n",
    "\n",
    "Hypothesis:\n",
    "* $H_{0}:$ $p_{A} = p_{B}$\n",
    "* $H_{1}:$ $p_{A} < p_{B}$\n",
    "\n",
    "Decision rule: reject $H_{0}$ if u_statistic is in the critial region i.e. *u_statistic < u_alpha*"
   ]
  },
  {
   "cell_type": "code",
   "execution_count": 5,
   "metadata": {},
   "outputs": [
    {
     "name": "stdout",
     "output_type": "stream",
     "text": [
      "u_statistic: -0.07507846296977737\n",
      "u_alpha: -1.6448536269514729\n"
     ]
    }
   ],
   "source": [
    "# Two-sample test for proportions\n",
    "# H0: p_1 = p_2\n",
    "# H1: p_1 < p_2\n",
    "\n",
    "alpha = 0.05\n",
    "x_1 = (data.loc[data['variant']=='A', 'p_sum_after'].values > 0).astype(int)\n",
    "x_2 = (data.loc[data['variant']=='B', 'p_sum_after'].values > 0).astype(int)\n",
    "n_1 = len(x_1)\n",
    "n_2 = len(x_2)\n",
    "p_hat_1 = sum(x_1)/n_1\n",
    "p_hat_2 = sum(x_2)/n_2\n",
    "p_hat = (sum(x_1) + sum(x_2)) / (n_1 + n_2)\n",
    "\n",
    "u_statistic = (p_hat_1 - p_hat_2) / (p_hat * (1 - p_hat) * (1/n_1 + 1/n_2))**(1/2)\n",
    "u_alpha = norm.ppf(alpha)\n",
    "\n",
    "print(f\"u_statistic: {u_statistic}\")\n",
    "print(f\"u_alpha: {u_alpha}\")"
   ]
  },
  {
   "cell_type": "markdown",
   "metadata": {},
   "source": [
    "Method: Chi-square test for homogeneity\n",
    "\n",
    "Assumptions:\n",
    "* Significance level: $\\alpha=0.05$\n",
    "* Test if the proportion of payers for variant B is different from the one for the variant A\n",
    "\n",
    "Hypothesis:\n",
    "* $H_{0}:$ there is no difference between the distributions\n",
    "* $H_{1}:$ there is a difference between the distributions\n",
    "\n",
    "Decision rule: reject $H_{0}$ if chi_squared_statistic is in the critial region i.e. *chi_squared_statistic > chi_squared_alpha*"
   ]
  },
  {
   "cell_type": "code",
   "execution_count": 6,
   "metadata": {},
   "outputs": [
    {
     "name": "stdout",
     "output_type": "stream",
     "text": [
      "chi_squared_statistic: 0.005636775601904362\n",
      "chi_squared_alpha: 0.06270677794321378\n"
     ]
    }
   ],
   "source": [
    "# Chi-square test for homogeneity\n",
    "# H0: there is no difference between the distributions\n",
    "# H1: there is a difference between the distributions\n",
    "\n",
    "alpha = 0.05\n",
    "x_1 = (data.loc[data['variant']=='A', 'p_sum_after'].values > 0).astype(int)\n",
    "x_2 = (data.loc[data['variant']=='B', 'p_sum_after'].values > 0).astype(int)\n",
    "n_1 = len(x_1)\n",
    "n_2 = len(x_2)\n",
    "\n",
    "rows = [\n",
    "    {'group': 'control', 1: len(x_1[x_1==1]), 0: len(x_1[x_1==0])}, \n",
    "    {'group': 'test', 1: len(x_2[x_2==1]), 0: len(x_2[x_2==0])}\n",
    "]\n",
    "contingency_table = pd.DataFrame.from_records(rows).set_index(keys='group')\n",
    "N = contingency_table.to_numpy().sum()\n",
    "r = contingency_table.shape[0]\n",
    "c = contingency_table.shape[1]\n",
    "chi_squared_statistic = 0\n",
    "for i in range(r):\n",
    "    for j in range(c):\n",
    "        O_i_j = contingency_table.iloc[i, j].item()\n",
    "        p_i = contingency_table.iloc[i, :].sum() / N\n",
    "        p_j = contingency_table.iloc[:, j].sum() / N\n",
    "        E_i_j = N * p_i * p_j\n",
    "        chi_squared_statistic += (O_i_j - E_i_j)**2 / E_i_j\n",
    "df = (r - 1) * (c - 1)\n",
    "chi_squared_alpha = chi.ppf(q=alpha, df=df)\n",
    "print(f\"chi_squared_statistic: {chi_squared_statistic}\")\n",
    "print(f\"chi_squared_alpha: {chi_squared_alpha}\")"
   ]
  }
 ],
 "metadata": {
  "kernelspec": {
   "display_name": "Python 3.9.12 ('base')",
   "language": "python",
   "name": "python3"
  },
  "language_info": {
   "codemirror_mode": {
    "name": "ipython",
    "version": 3
   },
   "file_extension": ".py",
   "mimetype": "text/x-python",
   "name": "python",
   "nbconvert_exporter": "python",
   "pygments_lexer": "ipython3",
   "version": "3.9.12"
  },
  "orig_nbformat": 4,
  "vscode": {
   "interpreter": {
    "hash": "410d8909286ee099184dd1ef7433bfa65b08aa8fd23cb773142d61ddfd810c49"
   }
  }
 },
 "nbformat": 4,
 "nbformat_minor": 2
}
